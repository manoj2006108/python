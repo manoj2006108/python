{
 "cells": [
  {
   "cell_type": "code",
   "execution_count": null,
   "id": "a731844c-2de1-4f71-98fc-229730191ba0",
   "metadata": {},
   "outputs": [],
   "source": []
  }
 ],
 "metadata": {
  "kernelspec": {
   "display_name": "",
   "name": ""
  },
  "language_info": {
   "name": ""
  }
 },
 "nbformat": 4,
 "nbformat_minor": 5
}
