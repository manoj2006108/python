{
 "cells": [
  {
   "cell_type": "code",
   "execution_count": null,
   "id": "a731844c-2de1-4f71-98fc-229730191ba0",
   "metadata": {},
   "outputs": [
    {
     "name": "stdout",
     "output_type": "stream",
     "text": [
      "Name:manoj naik\n",
      "USN: 1AY24AI067\n",
      "Section:o\n"
     ]
    },
    {
     "name": "stdin",
     "output_type": "stream",
     "text": [
      "Would you like to 'add', 'remove', or 'view' items? (type 'exit' to quit):  add\n",
      "Enter the item you want to add:  kitkat\n"
     ]
    }
   ],
   "source": [
    "print(\"Name:manoj naik\")\n",
    "print(\"USN: 1AY24AI067\")\n",
    "print(\"Section:o\")\n",
    "inventory = {}\n",
    "while True:\n",
    "    action = input(\"Would you like to 'add', 'remove', or 'view' items? (type 'exit' to quit): \").lower()\n",
    "    if action == 'add':\n",
    "        item = input(\"Enter the item you want to add: \")\n",
    "        quantity = int(input(\"Enter the quantity: \"))\n",
    "        if item in inventory:\n",
    "            inventory[item] += quantity\n",
    "        else:\n",
    "            inventory[item] = quantity\n",
    "        print(f\"{quantity} {item}(s) added to your inventory.\")\n",
    "    elif action == 'remove':\n",
    "        item = input(\"Enter the item you want to remove: \")\n",
    "        if item in inventory:\n",
    "            quantity = int(input(\"Enter the quantity: \"))\n",
    "            if quantity >= inventory[item]:\n",
    "                del inventory[item]\n",
    "                print(f\"{item} removed from your inventory.\")\n",
    "            else:\n",
    "                inventory[item] -= quantity\n",
    "                print(f\"{quantity} {item}(s) removed from your inventory.\")\n",
    "        else:\n",
    "            print(f\"{item} is not in your inventory.\")\n",
    "    elif action == 'view':\n",
    "        if inventory:\n",
    "            print(\"Your inventory:\")\n",
    "            for item, quantity in inventory.items():\n",
    "                print(f\"{item}: {quantity}\")\n",
    "        else:\n",
    "            print(\"Your inventory is empty.\")\n",
    "    elif action == 'exit':\n",
    "        break\n",
    "    else:\n",
    "        print(\"Invalid action. Please try again.\")"
   ]
  },
  {
   "cell_type": "code",
   "execution_count": null,
   "id": "188a2968-d264-420d-a9f3-6d6d0dd91174",
   "metadata": {},
   "outputs": [],
   "source": []
  }
 ],
 "metadata": {
  "kernelspec": {
   "display_name": "Python [conda env:base] *",
   "language": "python",
   "name": "conda-base-py"
  },
  "language_info": {
   "codemirror_mode": {
    "name": "ipython",
    "version": 3
   },
   "file_extension": ".py",
   "mimetype": "text/x-python",
   "name": "python",
   "nbconvert_exporter": "python",
   "pygments_lexer": "ipython3",
   "version": "3.12.7"
  }
 },
 "nbformat": 4,
 "nbformat_minor": 5
}
