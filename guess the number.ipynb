{
 "cells": [
  {
   "cell_type": "code",
   "execution_count": null,
   "id": "cda6e732-9ed8-4a06-b709-5d3e96f52d28",
   "metadata": {},
   "outputs": [
    {
     "name": "stdout",
     "output_type": "stream",
     "text": [
      "Name: Manoj naik\n",
      "USN: 1AY24AI067\n",
      "Section: o\n",
      "Welcome to the Guess the Number Game!\n",
      "I have selected a number between 1 and 100. Can you guess it?\n"
     ]
    },
    {
     "name": "stdin",
     "output_type": "stream",
     "text": [
      "Enter your guess:  20\n"
     ]
    },
    {
     "name": "stdout",
     "output_type": "stream",
     "text": [
      "Too low! Try again.\n"
     ]
    },
    {
     "name": "stdin",
     "output_type": "stream",
     "text": [
      "Enter your guess:  70\n"
     ]
    },
    {
     "name": "stdout",
     "output_type": "stream",
     "text": [
      "Too low! Try again.\n"
     ]
    }
   ],
   "source": [
    "print(\"Name: Manoj naik\")\n",
    "print(\"USN: 1AY24AI067\")\n",
    "print(\"Section: o\")\n",
    "import random\n",
    "\n",
    "number_to_guess = random.randint(1, 100)\n",
    "attempts = 0\n",
    "guess = 0\n",
    "\n",
    "print(\"Welcome to the Guess the Number Game!\")\n",
    "print(\"I have selected a number between 1 and 100. Can you guess it?\")\n",
    "\n",
    "while guess != number_to_guess:\n",
    "    guess = int(input(\"Enter your guess: \"))\n",
    "    attempts += 1\n",
    "    if guess < number_to_guess:\n",
    "        print(\"Too low! Try again.\")\n",
    "    elif guess > number_to_guess:\n",
    "        print(\"Too high! Try again.\")\n",
    "    else:\n",
    "        print(f\"Congratulations! You've guessed the number {number_to_guess} in {attempts} attempts.\")"
   ]
  },
  {
   "cell_type": "code",
   "execution_count": null,
   "id": "ee1bbf14-d74e-41e7-9158-27e836a20b44",
   "metadata": {},
   "outputs": [],
   "source": []
  }
 ],
 "metadata": {
  "kernelspec": {
   "display_name": "Python [conda env:base] *",
   "language": "python",
   "name": "conda-base-py"
  },
  "language_info": {
   "codemirror_mode": {
    "name": "ipython",
    "version": 3
   },
   "file_extension": ".py",
   "mimetype": "text/x-python",
   "name": "python",
   "nbconvert_exporter": "python",
   "pygments_lexer": "ipython3",
   "version": "3.12.7"
  }
 },
 "nbformat": 4,
 "nbformat_minor": 5
}
