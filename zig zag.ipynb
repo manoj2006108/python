{
 "cells": [
  {
   "cell_type": "code",
   "execution_count": null,
   "id": "28151aec-eedf-4a52-baa9-89e0dc850c6e",
   "metadata": {},
   "outputs": [],
   "source": []
  }
 ],
 "metadata": {
  "kernelspec": {
   "display_name": "",
   "name": ""
  },
  "language_info": {
   "name": ""
  }
 },
 "nbformat": 4,
 "nbformat_minor": 5
}
