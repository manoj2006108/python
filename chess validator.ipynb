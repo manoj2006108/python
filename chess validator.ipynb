{
 "cells": [
  {
   "cell_type": "code",
   "execution_count": 1,
   "id": "ffe39d29-0e35-4909-bd88-512e4ea8cb2f",
   "metadata": {},
   "outputs": [
    {
     "name": "stdout",
     "output_type": "stream",
     "text": [
      "Name: Manoj naik\n",
      "USN: 1AY24AI067\n",
      "Section: o\n",
      "True\n"
     ]
    }
   ],
   "source": [
    "print(\"Name: Manoj naik\")\n",
    "print(\"USN: 1AY24AI067\")\n",
    "print(\"Section: o\")\n",
    "chess_pieces = {\n",
    "    'K': 'King',\n",
    "    'Q': 'Queen',\n",
    "    'R': 'Rook',\n",
    "    'B': 'Bishop',\n",
    "    'N': 'Knight',\n",
    "    'P': 'Pawn'\n",
    "}\n",
    "\n",
    "def validate_chess_dict(chess_dict):\n",
    "    valid_keys = set(chess_pieces.keys())\n",
    "    for key in chess_dict.keys():\n",
    "        if key not in valid_keys:\n",
    "            return False\n",
    "    return True\n",
    "\n",
    "chess_dict = {\n",
    "    'K': 1,\n",
    "    'Q': 1,\n",
    "    'R': 2,\n",
    "    'B': 2,\n",
    "    'N': 2,\n",
    "    'P': 8\n",
    "}\n",
    "\n",
    "is_valid = validate_chess_dict(chess_dict)\n",
    "print(is_valid)"
   ]
  },
  {
   "cell_type": "code",
   "execution_count": null,
   "id": "1b5df81b-5b5a-48eb-96cf-79adf7911925",
   "metadata": {},
   "outputs": [],
   "source": []
  },
  {
   "cell_type": "code",
   "execution_count": null,
   "id": "995a1ead-dc44-49b6-8884-a628196504dc",
   "metadata": {},
   "outputs": [],
   "source": []
  }
 ],
 "metadata": {
  "kernelspec": {
   "display_name": "Python [conda env:base] *",
   "language": "python",
   "name": "conda-base-py"
  },
  "language_info": {
   "codemirror_mode": {
    "name": "ipython",
    "version": 3
   },
   "file_extension": ".py",
   "mimetype": "text/x-python",
   "name": "python",
   "nbconvert_exporter": "python",
   "pygments_lexer": "ipython3",
   "version": "3.12.7"
  }
 },
 "nbformat": 4,
 "nbformat_minor": 5
}
