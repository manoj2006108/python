{
 "cells": [
  {
   "cell_type": "code",
   "execution_count": 1,
   "id": "0568b30d-e295-461c-9707-e621ff6450fe",
   "metadata": {},
   "outputs": [
    {
     "name": "stdout",
     "output_type": "stream",
     "text": [
      "Name:manoj naik\n",
      "USN: 1AY24AI067\n",
      "Section: o\n",
      "apples, bananas, tofu, and cats\n"
     ]
    }
   ],
   "source": [
    "print(\"Name:manoj naik\")\n",
    "print(\"USN: 1AY24AI067\")\n",
    "print(\"Section: o\")\n",
    "items = ['apples', 'bananas', 'tofu', 'cats']\n",
    "result = ''\n",
    "\n",
    "for i in range(len(items)):\n",
    "    if i == len(items) - 1 and len(items) > 1:\n",
    "        result += 'and ' + items[i]\n",
    "    elif i == len(items) - 1:\n",
    "        result += items[i]\n",
    "    else:\n",
    "        result += items[i] + ', '\n",
    "\n",
    "print(result)"
   ]
  },
  {
   "cell_type": "code",
   "execution_count": null,
   "id": "952d3885-8e2d-4eac-ae20-342c36ba3ccb",
   "metadata": {},
   "outputs": [],
   "source": []
  }
 ],
 "metadata": {
  "kernelspec": {
   "display_name": "Python [conda env:base] *",
   "language": "python",
   "name": "conda-base-py"
  },
  "language_info": {
   "codemirror_mode": {
    "name": "ipython",
    "version": 3
   },
   "file_extension": ".py",
   "mimetype": "text/x-python",
   "name": "python",
   "nbconvert_exporter": "python",
   "pygments_lexer": "ipython3",
   "version": "3.12.7"
  }
 },
 "nbformat": 4,
 "nbformat_minor": 5
}
