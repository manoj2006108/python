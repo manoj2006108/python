{
 "cells": [
  {
   "cell_type": "code",
   "execution_count": null,
   "id": "41523a4a-8380-4702-b6d3-72c296d5941c",
   "metadata": {},
   "outputs": [],
   "source": []
  }
 ],
 "metadata": {
  "kernelspec": {
   "display_name": "",
   "name": ""
  },
  "language_info": {
   "name": ""
  }
 },
 "nbformat": 4,
 "nbformat_minor": 5
}
