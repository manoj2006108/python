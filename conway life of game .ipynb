{
 "cells": [
  {
   "cell_type": "code",
   "execution_count": null,
   "id": "620bf316-2bd0-448e-bf24-1e07b7c02230",
   "metadata": {},
   "outputs": [],
   "source": []
  }
 ],
 "metadata": {
  "kernelspec": {
   "display_name": "",
   "name": ""
  },
  "language_info": {
   "name": ""
  }
 },
 "nbformat": 4,
 "nbformat_minor": 5
}
