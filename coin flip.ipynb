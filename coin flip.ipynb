{
 "cells": [
  {
   "cell_type": "code",
   "execution_count": null,
   "id": "77727ca2-97b7-4983-a485-49d64375c7f8",
   "metadata": {},
   "outputs": [
    {
     "name": "stdout",
     "output_type": "stream",
     "text": [
      "Name: Manoj naik\n",
      "USN: 1AY24AI011\n",
      "Section: o\n"
     ]
    }
   ],
   "source": [
    "print(\"Name: Manoj naik\")\n",
    "print(\"USN: 1AY24AI011\")\n",
    "print(\"Section: o\")\n",
    "import random\n",
    "flips = int(input(\"Enter the number of coin flips: \"))\n",
    "results = []\n",
    "streak = 0\n",
    "max_streak = 0\n",
    "for _ in range(flips):\n",
    "    flip = random.choice(['H', 'T'])\n",
    "    results.append(flip)\n",
    "    if len(results) > 1 and results[-1] == results[-2]:\n",
    "        streak += 1\n",
    "    else:\n",
    "        streak = 1\n",
    "    if streak > max_streak:\n",
    "        max_streak = streak\n",
    "print(\"Results:\", results)\n",
    "print(\"Longest streak:\", max_streak)"
   ]
  },
  {
   "cell_type": "code",
   "execution_count": null,
   "id": "429646eb-01dd-46e5-9fc1-d4ba04a8d5f0",
   "metadata": {},
   "outputs": [],
   "source": []
  }
 ],
 "metadata": {
  "kernelspec": {
   "display_name": "Python [conda env:base] *",
   "language": "python",
   "name": "conda-base-py"
  },
  "language_info": {
   "codemirror_mode": {
    "name": "ipython",
    "version": 3
   },
   "file_extension": ".py",
   "mimetype": "text/x-python",
   "name": "python",
   "nbconvert_exporter": "python",
   "pygments_lexer": "ipython3",
   "version": "3.12.7"
  }
 },
 "nbformat": 4,
 "nbformat_minor": 5
}
