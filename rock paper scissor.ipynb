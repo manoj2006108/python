{
 "cells": [
  {
   "cell_type": "code",
   "execution_count": null,
   "id": "b027a355-94db-4810-bb9b-e96fda80596c",
   "metadata": {},
   "outputs": [],
   "source": []
  }
 ],
 "metadata": {
  "kernelspec": {
   "display_name": "",
   "name": ""
  },
  "language_info": {
   "name": ""
  }
 },
 "nbformat": 4,
 "nbformat_minor": 5
}
