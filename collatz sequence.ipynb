{
 "cells": [
  {
   "cell_type": "code",
   "execution_count": null,
   "id": "3ef20900-6158-4fbb-8aff-5ad34f8b60c8",
   "metadata": {},
   "outputs": [],
   "source": []
  }
 ],
 "metadata": {
  "kernelspec": {
   "display_name": "",
   "name": ""
  },
  "language_info": {
   "name": ""
  }
 },
 "nbformat": 4,
 "nbformat_minor": 5
}
